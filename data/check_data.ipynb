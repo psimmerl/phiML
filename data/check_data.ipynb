{
 "cells": [
  {
   "cell_type": "code",
   "execution_count": 7,
   "source": [
    "%reset -f\n",
    "import numpy as np\n",
    "\n",
    "\n",
    "with open('data/processed/X_train.npy', 'rb') as f:\n",
    "    X_train = np.load(f)\n",
    "with open('data/processed/y_train.npy', 'rb') as f:\n",
    "    y_train = np.load(f)\n",
    "\n",
    "my_scaler = joblib.load('data/scaler.gz')\n",
    "\n",
    "\n",
    "\n",
    "for i in range(len(rdfs)):\n",
    "    # rdfs[i] = rdfs[i].Define('imkpkm', '''\n",
    "    # auto kp = ROOT::Math::PxPyPzMVector(kppx, kppy, kppz, 0.493677);\n",
    "    # auto km = ROOT::Math::PxPyPzMVector(kmpx, kmpy, kmpz, 0.493677);\n",
    "    # return (kp+km).mass(); ''')\n",
    "\n",
    "    # rdfs[i] = rdfs[i].Define('imprkp', '''\n",
    "    # auto pr = ROOT::Math::PxPyPzMVector(kmpx, kmpy, kmpz, 0.938272);\n",
    "    # auto kp = ROOT::Math::PxPyPzMVector(kppx, kppy, kppz, 0.493677);\n",
    "    # return (pr+kp).mass(); ''')\n",
    "\n",
    "    print(rdfs[i].GetColumnNames())"
   ],
   "outputs": [
    {
     "output_type": "stream",
     "name": "stdout",
     "text": [
      "{ \"phimass\", \"helicity\", \"trento\", \"q2\", \"xb\", \"t\", \"w\", \"evid\", \"run\" }\n",
      "{ \"evz\", \"epx\", \"epy\", \"epz\", \"pvz\", \"ppx\", \"ppy\", \"ppz\", \"kpvz\", \"kppx\", \"kppy\", \"kppz\", \"kmvz\", \"kmpx\", \"kmpy\", \"kmpz\", \"evid\", \"run\" }\n"
     ]
    }
   ],
   "metadata": {}
  },
  {
   "cell_type": "code",
   "execution_count": 8,
   "source": [
    "c1 = ROOT.TCanvas('c1', 'c1', 1600, 800); c1.Draw()\n",
    "\n",
    "himkpkms = []\n",
    "for i, rdf in enumerate(rdfs):\n",
    "    himkpkms.append(rdf.Histo1D((f'imkpkm{i}', ';kpkm; counts', 200, 0.8, 3), 'imkpkm'))\n",
    "    himkpkms[-1].Draw(\"same\")\n"
   ],
   "outputs": [
    {
     "output_type": "error",
     "ename": "TypeError",
     "evalue": "Template method resolution failed:\n  none of the 4 overloaded methods succeeded. Full details:\n  ROOT::RDF::RResultPtr<TH1D> ROOT::RDF::RInterface<ROOT::Detail::RDF::RLoopManager,void>::Histo1D(experimental::basic_string_view<char,char_traits<char> > vName) =>\n    TypeError: takes at most 1 arguments (2 given)\n  ROOT::RDF::RResultPtr<TH1D> ROOT::RDF::RInterface<ROOT::Detail::RDF::RLoopManager,void>::Histo1D(const ROOT::RDF::TH1DModel& model, experimental::basic_string_view<char,char_traits<char> > vName, experimental::basic_string_view<char,char_traits<char> > wName) =>\n    TypeError: takes at least 3 arguments (2 given)\n  ROOT::RDF::RResultPtr<TH1D> ROOT::RDF::RInterface<ROOT::Detail::RDF::RLoopManager,void>::Histo1D(experimental::basic_string_view<char,char_traits<char> > vName, experimental::basic_string_view<char,char_traits<char> > wName) =>\n    TypeError: could not convert argument 1\n  ROOT::RDF::RResultPtr<TH1D> ROOT::RDF::RInterface<ROOT::Detail::RDF::RLoopManager,void>::Histo1D(const ROOT::RDF::TH1DModel& model = {\"\", \"\", 128U, 0., 0.}, experimental::basic_string_view<char,char_traits<char> > vName = \"\") =>\n    runtime_error: Unknown column: imkpkm\n  Failed to instantiate \"Histo1D(ROOT::RDF::TH1DModel*,std::string)\"",
     "traceback": [
      "\u001b[0;31m---------------------------------------------------------------------------\u001b[0m",
      "\u001b[0;31mTypeError\u001b[0m                                 Traceback (most recent call last)",
      "\u001b[0;32m/tmp/ipykernel_3978109/968663590.py\u001b[0m in \u001b[0;36m<module>\u001b[0;34m\u001b[0m\n\u001b[1;32m      3\u001b[0m \u001b[0mhimkpkms\u001b[0m \u001b[0;34m=\u001b[0m \u001b[0;34m[\u001b[0m\u001b[0;34m]\u001b[0m\u001b[0;34m\u001b[0m\u001b[0;34m\u001b[0m\u001b[0m\n\u001b[1;32m      4\u001b[0m \u001b[0;32mfor\u001b[0m \u001b[0mi\u001b[0m\u001b[0;34m,\u001b[0m \u001b[0mrdf\u001b[0m \u001b[0;32min\u001b[0m \u001b[0menumerate\u001b[0m\u001b[0;34m(\u001b[0m\u001b[0mrdfs\u001b[0m\u001b[0;34m)\u001b[0m\u001b[0;34m:\u001b[0m\u001b[0;34m\u001b[0m\u001b[0;34m\u001b[0m\u001b[0m\n\u001b[0;32m----> 5\u001b[0;31m     \u001b[0mhimkpkms\u001b[0m\u001b[0;34m.\u001b[0m\u001b[0mappend\u001b[0m\u001b[0;34m(\u001b[0m\u001b[0mrdf\u001b[0m\u001b[0;34m.\u001b[0m\u001b[0mHisto1D\u001b[0m\u001b[0;34m(\u001b[0m\u001b[0;34m(\u001b[0m\u001b[0;34mf'imkpkm{i}'\u001b[0m\u001b[0;34m,\u001b[0m \u001b[0;34m';kpkm; counts'\u001b[0m\u001b[0;34m,\u001b[0m \u001b[0;36m200\u001b[0m\u001b[0;34m,\u001b[0m \u001b[0;36m0.8\u001b[0m\u001b[0;34m,\u001b[0m \u001b[0;36m3\u001b[0m\u001b[0;34m)\u001b[0m\u001b[0;34m,\u001b[0m \u001b[0;34m'imkpkm'\u001b[0m\u001b[0;34m)\u001b[0m\u001b[0;34m)\u001b[0m\u001b[0;34m\u001b[0m\u001b[0;34m\u001b[0m\u001b[0m\n\u001b[0m\u001b[1;32m      6\u001b[0m     \u001b[0mhimkpkms\u001b[0m\u001b[0;34m[\u001b[0m\u001b[0;34m-\u001b[0m\u001b[0;36m1\u001b[0m\u001b[0;34m]\u001b[0m\u001b[0;34m.\u001b[0m\u001b[0mDraw\u001b[0m\u001b[0;34m(\u001b[0m\u001b[0;34m\"same\"\u001b[0m\u001b[0;34m)\u001b[0m\u001b[0;34m\u001b[0m\u001b[0;34m\u001b[0m\u001b[0m\n",
      "\u001b[0;32m~/CERN-ROOT/lib/ROOT/pythonization/_rdataframe.py\u001b[0m in \u001b[0;36m_histo_profile\u001b[0;34m(self, fixed_args, *args)\u001b[0m\n\u001b[1;32m    118\u001b[0m         \u001b[0;31m# with the model as first argument\u001b[0m\u001b[0;34m\u001b[0m\u001b[0;34m\u001b[0m\u001b[0;34m\u001b[0m\u001b[0m\n\u001b[1;32m    119\u001b[0m         \u001b[0;32mif\u001b[0m \u001b[0mlen\u001b[0m\u001b[0;34m(\u001b[0m\u001b[0margs\u001b[0m\u001b[0;34m)\u001b[0m \u001b[0;34m>\u001b[0m \u001b[0;36m1\u001b[0m\u001b[0;34m:\u001b[0m\u001b[0;34m\u001b[0m\u001b[0;34m\u001b[0m\u001b[0m\n\u001b[0;32m--> 120\u001b[0;31m             \u001b[0mres\u001b[0m \u001b[0;34m=\u001b[0m \u001b[0moriginal_method\u001b[0m\u001b[0;34m(\u001b[0m\u001b[0mmodel\u001b[0m\u001b[0;34m,\u001b[0m \u001b[0;34m*\u001b[0m\u001b[0margs\u001b[0m\u001b[0;34m[\u001b[0m\u001b[0;36m1\u001b[0m\u001b[0;34m:\u001b[0m\u001b[0;34m]\u001b[0m\u001b[0;34m)\u001b[0m\u001b[0;34m\u001b[0m\u001b[0;34m\u001b[0m\u001b[0m\n\u001b[0m\u001b[1;32m    121\u001b[0m         \u001b[0;32melse\u001b[0m\u001b[0;34m:\u001b[0m\u001b[0;34m\u001b[0m\u001b[0;34m\u001b[0m\u001b[0m\n\u001b[1;32m    122\u001b[0m             \u001b[0;31m# Covers the case of the overloads with only model passed\u001b[0m\u001b[0;34m\u001b[0m\u001b[0;34m\u001b[0m\u001b[0;34m\u001b[0m\u001b[0m\n",
      "\u001b[0;31mTypeError\u001b[0m: Template method resolution failed:\n  none of the 4 overloaded methods succeeded. Full details:\n  ROOT::RDF::RResultPtr<TH1D> ROOT::RDF::RInterface<ROOT::Detail::RDF::RLoopManager,void>::Histo1D(experimental::basic_string_view<char,char_traits<char> > vName) =>\n    TypeError: takes at most 1 arguments (2 given)\n  ROOT::RDF::RResultPtr<TH1D> ROOT::RDF::RInterface<ROOT::Detail::RDF::RLoopManager,void>::Histo1D(const ROOT::RDF::TH1DModel& model, experimental::basic_string_view<char,char_traits<char> > vName, experimental::basic_string_view<char,char_traits<char> > wName) =>\n    TypeError: takes at least 3 arguments (2 given)\n  ROOT::RDF::RResultPtr<TH1D> ROOT::RDF::RInterface<ROOT::Detail::RDF::RLoopManager,void>::Histo1D(experimental::basic_string_view<char,char_traits<char> > vName, experimental::basic_string_view<char,char_traits<char> > wName) =>\n    TypeError: could not convert argument 1\n  ROOT::RDF::RResultPtr<TH1D> ROOT::RDF::RInterface<ROOT::Detail::RDF::RLoopManager,void>::Histo1D(const ROOT::RDF::TH1DModel& model = {\"\", \"\", 128U, 0., 0.}, experimental::basic_string_view<char,char_traits<char> > vName = \"\") =>\n    runtime_error: Unknown column: imkpkm\n  Failed to instantiate \"Histo1D(ROOT::RDF::TH1DModel*,std::string)\""
     ]
    },
    {
     "output_type": "display_data",
     "data": {
      "image/png": "[encoded data removed]",
      "text/plain": [
       "<IPython.core.display.Image object>"
      ]
     },
     "metadata": {}
    }
   ],
   "metadata": {}
  },
  {
   "cell_type": "code",
   "execution_count": null,
   "source": [],
   "outputs": [],
   "metadata": {}
  }
 ],
 "metadata": {
  "orig_nbformat": 4,
  "language_info": {
   "name": "python",
   "version": "3.8.10"
  },
  "kernelspec": {
   "name": "python3",
   "display_name": "Python 3.8.10 64-bit ('tf': venv)"
  },
  "interpreter": {
   "hash": "b7641c0c0b8bcbb41782b8c3212e741f41e23a5dbe44042ef010a6f14ba3c0ee"
  }
 },
 "nbformat": 4,
 "nbformat_minor": 2
}